{
 "cells": [
  {
   "cell_type": "markdown",
   "id": "9e8f29f9-b893-4e60-a4d3-80f88ac38fa7",
   "metadata": {},
   "source": [
    "# TP 3 SciQLOP - Virtual Products\n",
    "The goal of this practical session is to create and manipulate SciQLOP virtual products\n",
    "<div align=\"center\">\n",
    "<img src=\"https://github.com/SciQLop/SciQLop/raw/main/SciQLop/resources/icons/SciQLop.png\"/>\n",
    "</div>"
   ]
  },
  {
   "cell_type": "markdown",
   "id": "911630f8-af56-4361-ba82-bd0bbbc68c1f",
   "metadata": {},
   "source": [
    "# Mirror mode threshold virtual products\n",
    "\n",
    "In this exercice, we will create a virtual product that computes the mirror mode instability threshold value\\ \n",
    "that we have already encountered in the previous exercice.\\\n",
    "As a reminder, the formula is :\n",
    "\n",
    "\n",
    "$$ C = \\beta_\\perp\\left(\\frac{T_\\perp}{T_{\\parallel}}-1\\right)$$ \n",
    "\n",
    "\n",
    "where :\n",
    "\n",
    "$$\\beta_\\perp = \\frac{2\\mu_0P_\\perp}{B^2}$$\n",
    "\n",
    "Now in a SciQLOP notebook, define a function computing this value, and define a new scalar virtual product under the path \"mms/mirror\".\n",
    "\n",
    "Complete the following code to create the virtual product.\n"
   ]
  },
  {
   "cell_type": "markdown",
   "id": "2ea697ca-a8a7-4fd5-af85-ed2eaa88158f",
   "metadata": {},
   "source": [
    "# "
   ]
  },
  {
   "metadata": {
    "ExecuteTime": {
     "end_time": "2024-06-11T10:19:16.180769Z",
     "start_time": "2024-06-11T10:19:13.714681Z"
    }
   },
   "cell_type": "code",
   "source": [
    "from SciQLop.user_api.virtual_products import create_virtual_product, VirtualProductType\n",
    "from speasy import SpeasyVariable\n",
    "\n",
    "\n",
    "def mirror_mode_threshold(start_time: float, stop_time: float) -> SpeasyVariable or None:\n",
    "    ...\n",
    "    return ...\n",
    "\n",
    "\n",
    "mirror_mode_threshold_vp = create_virtual_product(\"/mms/mirror\", mirror_mode_threshold, VirtualProductType.Scalar)\n"
   ],
   "id": "803b23eb3c3fcea1",
   "outputs": [
    {
     "name": "stdout",
     "output_type": "stream",
     "text": [
      "Process ID changed, closing SQLite connection\n",
      "Connecting to SQLite database\n",
      "Connecting to SQLite database\n",
      "Process ID changed, closing SQLite connection\n",
      "Connecting to SQLite database\n",
      "Connecting to SQLite database\n"
     ]
    },
    {
     "ename": "AttributeError",
     "evalue": "type object 'VirtualProductType' has no attribute 'SCALAR'",
     "output_type": "error",
     "traceback": [
      "\u001B[0;31m---------------------------------------------------------------------------\u001B[0m",
      "\u001B[0;31mAttributeError\u001B[0m                            Traceback (most recent call last)",
      "Cell \u001B[0;32mIn[1], line 9\u001B[0m\n\u001B[1;32m      6\u001B[0m     \u001B[38;5;241m.\u001B[39m\u001B[38;5;241m.\u001B[39m\u001B[38;5;241m.\u001B[39m\n\u001B[1;32m      7\u001B[0m     \u001B[38;5;28;01mreturn\u001B[39;00m \u001B[38;5;241m.\u001B[39m\u001B[38;5;241m.\u001B[39m\u001B[38;5;241m.\u001B[39m\n\u001B[0;32m----> 9\u001B[0m mirror_mode_threshold_vp \u001B[38;5;241m=\u001B[39m create_virtual_product(\u001B[38;5;124m\"\u001B[39m\u001B[38;5;124m/mms/mirror\u001B[39m\u001B[38;5;124m\"\u001B[39m, mirror_mode_threshold, \u001B[43mVirtualProductType\u001B[49m\u001B[38;5;241;43m.\u001B[39;49m\u001B[43mSCALAR\u001B[49m)\n",
      "\u001B[0;31mAttributeError\u001B[0m: type object 'VirtualProductType' has no attribute 'SCALAR'"
     ]
    }
   ],
   "execution_count": 1
  },
  {
   "metadata": {},
   "cell_type": "code",
   "outputs": [],
   "execution_count": null,
   "source": [
    "from SciQLop.user_api.plot import create_plot_panel\n",
    "from SciQLop.user_api import TimeRange\n",
    "\n",
    "panel = create_plot_panel()\n",
    "panel.time_range = TimeRange(\"2021-01-01\", \"2021-01-02\")\n",
    "panel.plot(mirror_mode_threshold_vp)"
   ],
   "id": "252fd5e94c5d881b"
  }
 ],
 "metadata": {
  "kernelspec": {
   "display_name": "Python 3 (ipykernel)",
   "language": "python",
   "name": "python3"
  },
  "language_info": {
   "codemirror_mode": {
    "name": "ipython",
    "version": 3
   },
   "file_extension": ".py",
   "mimetype": "text/x-python",
   "name": "python",
   "nbconvert_exporter": "python",
   "pygments_lexer": "ipython3",
   "version": "3.12.3"
  }
 },
 "nbformat": 4,
 "nbformat_minor": 5
}
